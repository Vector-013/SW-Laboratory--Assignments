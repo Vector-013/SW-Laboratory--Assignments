{
 "cells": [
  {
   "cell_type": "markdown",
   "metadata": {},
   "source": [
    "#### Q1.   Write a program to load a .csv file as a NumPy 1-D array. Find the maximum and minimum elements in the array.\n"
   ]
  },
  {
   "cell_type": "code",
   "execution_count": null,
   "metadata": {},
   "outputs": [],
   "source": [
    "import numpy as np\n",
    "\n",
    "\n",
    "data = np.loadtxt(\"book1.csv\", delimiter=\"\\t\", skiprows=1, usecols=(1))  # load csv\n",
    "\n",
    "data = data.astype(int)\n",
    "max_point = np.max(data)  # numpy methods\n",
    "min_point = np.min(data)\n",
    "\n",
    "print(\"Maximum point in the array :\", max_point)\n",
    "print(\"Minimum point in the array :\", min_point)\n"
   ]
  },
  {
   "cell_type": "markdown",
   "metadata": {},
   "source": [
    "#### Q2.   For the Numpy 1-D array as obtained in Q.1, sort the elements in ascending order.\n"
   ]
  },
  {
   "cell_type": "code",
   "execution_count": null,
   "metadata": {},
   "outputs": [],
   "source": [
    "import numpy as np\n",
    "\n",
    "\n",
    "data = np.loadtxt(\"book1.csv\", delimiter=\"\\t\", skiprows=1, usecols=(1))\n",
    "\n",
    "data = data.astype(int)\n",
    "\n",
    "data.sort()  # sort method\n",
    "print(data)"
   ]
  },
  {
   "cell_type": "markdown",
   "metadata": {},
   "source": [
    "#### Q3.  For the sorted Numpy 1-D array as obtained in Q.2, reverse the array and print\n"
   ]
  },
  {
   "cell_type": "code",
   "execution_count": null,
   "metadata": {},
   "outputs": [],
   "source": [
    "import numpy as np\n",
    "\n",
    "\n",
    "data = np.loadtxt(\"book1.csv\", delimiter=\"\\t\", skiprows=1, usecols=(1))\n",
    "\n",
    "data = data.astype(int)\n",
    "\n",
    "data.sort()\n",
    "ascending_data = np.flip(data, axis=0)  # flips list\n",
    "print(ascending_data)"
   ]
  },
  {
   "cell_type": "markdown",
   "metadata": {},
   "source": [
    "#### Q4. Write a program to load three .csv files (Book1.csv, Book2.csv, and Book3.csv) as a list of Numpy 1-D arrays. Print the means of all arrays as a list.\n"
   ]
  },
  {
   "cell_type": "code",
   "execution_count": null,
   "metadata": {},
   "outputs": [],
   "source": [
    "import numpy as np\n",
    "\n",
    "data1 = np.loadtxt(\"book1.csv\", delimiter=\"\\t\", skiprows=1, usecols=(1))\n",
    "data2 = np.loadtxt(\"book2.csv\", delimiter=\"\\t\", skiprows=1, usecols=(1))\n",
    "data3 = np.loadtxt(\"book3.csv\", delimiter=\"\\t\", skiprows=1, usecols=(1))\n",
    "\n",
    "data = [data1, data2, data3]\n",
    "means = []\n",
    "for d in data:  # list comprehension\n",
    "    means.append(np.mean(d))  # mean method\n",
    "\n",
    "print(f\"Means of the datasets 1, 2, 3 respectively are: {means}\")\n"
   ]
  },
  {
   "cell_type": "markdown",
   "metadata": {},
   "source": [
    "#### Q5.  Write a program to read an image, store the image in NumPy 3-D array. For the image, consider a.png. Display the image. Let the image stored in the NumPy array be X.\n"
   ]
  },
  {
   "cell_type": "code",
   "execution_count": null,
   "metadata": {},
   "outputs": [],
   "source": [
    "import cv2\n",
    "import matplotlib.pyplot as plt\n",
    "\n",
    "image_path = \"a.png\"\n",
    "\n",
    "image = cv2.imread(image_path)\n",
    "\n",
    "if image is None:\n",
    "    print(\"[ERROR] IMAGE NOT FOUND\", image_path)\n",
    "    exit()\n",
    "\n",
    "X = cv2.cvtColor(image, cv2.COLOR_BGR2RGB)\n",
    "\n",
    "plt.imshow(X)\n",
    "plt.title(\"Image loaded and stored in NumPy array\")\n",
    "plt.show()\n"
   ]
  },
  {
   "cell_type": "markdown",
   "metadata": {},
   "source": [
    "#### Q6. Write a program to convert a color image (say a.PNG) into a grescale image. Let the greysacle image stored in the Numpy 2-D array be X. Display the grayscale iamge on the screen. \n"
   ]
  },
  {
   "cell_type": "code",
   "execution_count": null,
   "metadata": {},
   "outputs": [],
   "source": [
    "import cv2\n",
    "import matplotlib.pyplot as plt\n",
    "\n",
    "image_path = \"a.png\"\n",
    "\n",
    "image = cv2.imread(image_path)\n",
    "\n",
    "if image is None:\n",
    "    print(\"[ERROR] IMAGE NOT FOUND\", image_path)\n",
    "    exit()\n",
    "\n",
    "X = cv2.cvtColor(image, cv2.COLOR_BGR2RGB)  ## change color space\n",
    "X = cv2.cvtColor(X, cv2.COLOR_BGR2GRAY)\n",
    "X = X.astype(\"uint8\")\n",
    "\n",
    "plt.imshow(X, cmap=\"gray\")\n",
    "plt.title(\"Image loaded and stored in NumPy array\")\n",
    "plt.show()\n"
   ]
  },
  {
   "cell_type": "markdown",
   "metadata": {},
   "source": [
    "#### Q7.  Let Y be the transpose matrix of X. Write a program to obtain Z = X×Y. \n"
   ]
  },
  {
   "cell_type": "code",
   "execution_count": null,
   "metadata": {},
   "outputs": [],
   "source": [
    "import cv2\n",
    "import numpy as np\n",
    "import matplotlib.pyplot as plt\n",
    "\n",
    "image_path = \"a.png\"\n",
    "\n",
    "image = cv2.imread(image_path)\n",
    "\n",
    "if image is None:\n",
    "    print(\"[ERROR] IMAGE NOT FOUND\", image_path)\n",
    "    exit()\n",
    "\n",
    "X = cv2.cvtColor(image, cv2.COLOR_BGR2RGB)\n",
    "X = cv2.cvtColor(X, cv2.COLOR_BGR2GRAY)\n",
    "X = X.astype(\"uint8\")\n",
    "\n",
    "X_MATRIX = np.array(X)\n",
    "Z = np.dot(X_MATRIX.tolist(), X_MATRIX.T.tolist())  # numpy method to calculate product\n",
    "\n",
    "print(f\"Z : {Z}\")\n"
   ]
  },
  {
   "cell_type": "markdown",
   "metadata": {},
   "source": [
    "#### Q8.  For the problem in Q. 7, write your program without using NumPy library. Compare the computation times doing the same with NumPy and basic programming in Python.\n"
   ]
  },
  {
   "cell_type": "code",
   "execution_count": null,
   "metadata": {},
   "outputs": [],
   "source": [
    "import cv2\n",
    "import numpy as np\n",
    "import matplotlib.pyplot as plt\n",
    "import time\n",
    "\n",
    "\n",
    "image_path = \"a.png\"\n",
    "\n",
    "image = cv2.imread(image_path)\n",
    "\n",
    "if image is None:\n",
    "    print(\"[ERROR] IMAGE NOT FOUND\", image_path)\n",
    "    exit()\n",
    "\n",
    "X = cv2.cvtColor(image, cv2.COLOR_BGR2GRAY)\n",
    "X = X.astype(\"uint8\")\n",
    "\n",
    "\n",
    "X_MATRIX = np.array(X)\n",
    "\n",
    "start_time = time.time()\n",
    "Z = np.dot(X_MATRIX.tolist(), X_MATRIX.T.tolist())\n",
    "end_time = time.time()\n",
    "\n",
    "print(f\"Z : {Z}\")\n",
    "\n",
    "print(f\"[Numpy TIME ] : {end_time - start_time} secs\")\n",
    "\n",
    "print(\"=========================================================================\")\n",
    "\n",
    "\n",
    "def matrix_multiplication(X, Y):\n",
    "    \"\"\"\n",
    "    Performs matrix multiplication using nested loops.\n",
    "\n",
    "    Args:\n",
    "      X: A 2D list representing the first matrix.\n",
    "      Y: A 2D list representing the second matrix.\n",
    "\n",
    "    Returns:\n",
    "      A 2D list representing the product matrix Z.\n",
    "    \"\"\"\n",
    "    m, n = len(X), len(Y[0])  # Get dimensions of X and Y\n",
    "    Z = [[0 for _ in range(n)] for _ in range(m)]  # Initialize result matrix\n",
    "\n",
    "    for i in range(m):\n",
    "        for j in range(n):\n",
    "            for k in range(len(Y)):\n",
    "                Z[i][j] += X[i][k] * Y[k][j]\n",
    "\n",
    "    return Z\n",
    "\n",
    "\n",
    "X = X_MATRIX.tolist()\n",
    "Y = X_MATRIX.T.tolist()\n",
    "\n",
    "# Assuming X is a 2D list\n",
    "Y = [[row[i] for row in X] for i in range(len(X[0]))]  # Transpose X manually\n",
    "\n",
    "\n",
    "start_time = time.time()\n",
    "Z = matrix_multiplication(X, Y)\n",
    "end_time = time.time()\n",
    "# Print the result\n",
    "print(Z)\n",
    "\n",
    "\n",
    "print(f\"[NORMAL TIME] : {end_time - start_time} secs\")\n"
   ]
  },
  {
   "cell_type": "markdown",
   "metadata": {},
   "source": [
    "#### Q9.  Plot the pixel intensity histogram of the grescale image stored in X. \n"
   ]
  },
  {
   "cell_type": "code",
   "execution_count": null,
   "metadata": {},
   "outputs": [],
   "source": [
    "import matplotlib.pyplot as plt\n",
    "import cv2\n",
    "import numpy as np\n",
    "import matplotlib.pyplot as plt\n",
    "\n",
    "# Assuming your grayscale image data is stored in the variable `X`\n",
    "\n",
    "# Calculate the histogram directly from the image data\n",
    "\n",
    "\n",
    "image_path = \"a.png\"\n",
    "\n",
    "image = cv2.imread(image_path)\n",
    "\n",
    "if image is None:\n",
    "    print(\"[ERROR] IMAGE NOT FOUND\", image_path)\n",
    "    exit()\n",
    "\n",
    "X = cv2.cvtColor(image, cv2.COLOR_BGR2RGB)\n",
    "X = cv2.cvtColor(X, cv2.COLOR_BGR2GRAY)\n",
    "X = X.astype(\"uint8\")\n",
    "\n",
    "counts, bins = np.histogram(\n",
    "    X.flatten(), bins=256\n",
    ")  # Adjust the number of bins as needed\n",
    "\n",
    "# Plot the histogram using matplotlib\n",
    "plt.bar(bins[:-1], counts, width=bins[1] - bins[0])\n",
    "\n",
    "# Customize the plot (optional)\n",
    "plt.xlabel(\"Pixel Intensity\")\n",
    "plt.ylabel(\"Frequency\")\n",
    "plt.title(\"Pixel Intensity Histogram\")\n",
    "plt.grid(True)\n",
    "\n",
    "# Display the histogram\n",
    "plt.show()\n"
   ]
  },
  {
   "cell_type": "markdown",
   "metadata": {},
   "source": [
    "#### Q10.  Create a black rectangle at the position [(40,100) top right, (70, 200) bottom left] in the grayscale image. Display the image.\n"
   ]
  },
  {
   "cell_type": "code",
   "execution_count": null,
   "metadata": {},
   "outputs": [],
   "source": [
    "import matplotlib.pyplot as plt\n",
    "import cv2\n",
    "import numpy as np\n",
    "import matplotlib.pyplot as plt\n",
    "\n",
    "\n",
    "# Assuming your grayscale image data is stored in the variable `X`\n",
    "\n",
    "image_path = \"a.png\"\n",
    "\n",
    "image = cv2.imread(image_path)\n",
    "\n",
    "if image is None:\n",
    "    print(\"[ERROR] IMAGE NOT FOUND\", image_path)\n",
    "    exit()\n",
    "\n",
    "X = cv2.cvtColor(image, cv2.COLOR_BGR2RGB)\n",
    "X = cv2.cvtColor(X, cv2.COLOR_BGR2GRAY)\n",
    "X = X.astype(\"uint8\")\n",
    "\n",
    "# Calculate rectangle coordinates based on provided points and image dimensions\n",
    "rect_top_left = (40, 100)\n",
    "rect_bottom_right = (70, 200)\n",
    "\n",
    "# Convert coordinates to array slicing indices\n",
    "rect_left, rect_top = rect_top_left\n",
    "rect_right, rect_bottom = rect_bottom_right\n",
    "\n",
    "# Determine black color value based on data type and preference\n",
    "black_value = 0\n",
    "\n",
    "X[rect_top:rect_bottom, rect_left:rect_right] = black_value\n",
    "\n",
    "\n",
    "# Display the modified image\n",
    "plt.imshow(X, cmap=\"gray\")  # Use grayscale colormap\n",
    "plt.show()\n"
   ]
  },
  {
   "cell_type": "markdown",
   "metadata": {},
   "source": [
    "#### Q11. Using the grayscale image stored in X, transform it into the binarized image with thresholds: [50, 70, 100, 150]. Let the binarized images are stored in Z50, Z70, Z100, and Z150, respectively\n"
   ]
  },
  {
   "cell_type": "code",
   "execution_count": null,
   "metadata": {},
   "outputs": [],
   "source": [
    "import cv2\n",
    "import numpy as np\n",
    "import matplotlib.pyplot as plt\n",
    "\n",
    "image_path = \"a.png\"\n",
    "\n",
    "image = cv2.imread(image_path)\n",
    "\n",
    "if image is None:\n",
    "    print(\"[ERROR] IMAGE NOT FOUND\", image_path)\n",
    "    exit()\n",
    "\n",
    "X = cv2.cvtColor(image, cv2.COLOR_BGR2RGB)\n",
    "X = cv2.cvtColor(X, cv2.COLOR_BGR2GRAY)\n",
    "X = X.astype(\"uint8\")\n",
    "\n",
    "X = np.array(X)\n",
    "\n",
    "# Assuming X is a NumPy array with grayscale values\n",
    "Z50 = np.copy(X)  # Create a copy to avoid modifying the original image\n",
    "Z70 = np.copy(X)\n",
    "Z100 = np.copy(X)\n",
    "Z150 = np.copy(X)\n",
    "\n",
    "# Apply thresholding for each image and store the results\n",
    "Z50[Z50 > 50] = 255\n",
    "Z50[Z50 <= 50] = 0\n",
    "\n",
    "Z70[Z70 > 70] = 255\n",
    "Z70[Z70 <= 70] = 0\n",
    "\n",
    "Z100[Z100 > 100] = 255\n",
    "Z100[Z100 <= 100] = 0\n",
    "\n",
    "Z150[Z150 > 150] = 255\n",
    "Z150[Z150 <= 150] = 0\n",
    "\n",
    "# Now Z50, Z70, Z100, and Z150 contain the binarized images with respective thresholds, show each\n",
    "\n",
    "plt.imshow(Z50, cmap=\"gray\")\n",
    "plt.title(\"Image loaded threshold as 50\")\n",
    "plt.show()\n",
    "\n",
    "plt.imshow(Z70, cmap=\"gray\")\n",
    "plt.title(\"Image loaded threshold as 70\")\n",
    "plt.show()\n",
    "\n",
    "plt.imshow(Z100, cmap=\"gray\")\n",
    "plt.title(\"Image loaded threshold as 100\")\n",
    "plt.show()\n",
    "\n",
    "plt.imshow(Z150, cmap=\"gray\")\n",
    "plt.title(\"Image loaded threshold as 150\")\n",
    "plt.show()\n"
   ]
  },
  {
   "cell_type": "markdown",
   "metadata": {},
   "source": [
    "#### Q12.  Consider the color image stored in a.png. Create a filter of [[-1,-1,-1][0,0,0][1,1,1]], and multiply this filter to each pixel value in the image. Display the image after filtering. \n"
   ]
  },
  {
   "cell_type": "code",
   "execution_count": null,
   "metadata": {},
   "outputs": [],
   "source": [
    "import cv2\n",
    "import numpy as np\n",
    "import matplotlib.pyplot as plt\n",
    "\n",
    "# Replace \"a.png\" with the actual path to your image\n",
    "image = cv2.imread(\"a.png\")\n",
    "\n",
    "# Check if image is loaded successfully\n",
    "if image is None:\n",
    "    print(\"Error: Failed to load image. Please check the file path and try again.\")\n",
    "    exit()\n",
    "\n",
    "filter = np.array([[-1, -1, -1], [0, 0, 0], [1, 1, 1]])\n",
    "\n",
    "# grayscale_image = cv2.cvtColor(image, cv2.COLOR_BGR2GRAY)\n",
    "\n",
    "# Apply the filter using convolution\n",
    "filtered_image = cv2.filter2D(image, -1, filter)\n",
    "\n",
    "image = cv2.cvtColor(image, cv2.COLOR_BGR2RGB)\n",
    "filtered_image = cv2.cvtColor(filtered_image, cv2.COLOR_BGR2RGB)\n",
    "\n",
    "plt.imshow(filtered_image)\n",
    "plt.title(\"Filtered\")\n",
    "plt.show()\n"
   ]
  }
 ],
 "metadata": {
  "kernelspec": {
   "display_name": "Python 3",
   "language": "python",
   "name": "python3"
  },
  "language_info": {
   "codemirror_mode": {
    "name": "ipython",
    "version": 3
   },
   "file_extension": ".py",
   "mimetype": "text/x-python",
   "name": "python",
   "nbconvert_exporter": "python",
   "pygments_lexer": "ipython3",
   "version": "3.10.12"
  }
 },
 "nbformat": 4,
 "nbformat_minor": 2
}
